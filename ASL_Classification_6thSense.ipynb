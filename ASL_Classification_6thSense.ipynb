{
  "nbformat": 4,
  "nbformat_minor": 0,
  "metadata": {
    "colab": {
      "name": "ASL_Classification_6thSense.ipynb",
      "provenance": [],
      "collapsed_sections": [],
      "include_colab_link": true
    },
    "kernelspec": {
      "name": "python3",
      "display_name": "Python 3"
    },
    "language_info": {
      "name": "python"
    },
    "accelerator": "GPU"
  },
  "cells": [
    {
      "cell_type": "markdown",
      "metadata": {
        "id": "view-in-github",
        "colab_type": "text"
      },
      "source": [
        "<a href=\"https://colab.research.google.com/github/KamaljeetSahoo/6thSense/blob/master/ASL_Classification_6thSense.ipynb\" target=\"_parent\"><img src=\"https://colab.research.google.com/assets/colab-badge.svg\" alt=\"Open In Colab\"/></a>"
      ]
    },
    {
      "cell_type": "markdown",
      "metadata": {
        "id": "x-mvb2hAKIDj"
      },
      "source": [
        "Dataset"
      ]
    },
    {
      "cell_type": "code",
      "metadata": {
        "id": "3PAb1FlWXTDP"
      },
      "source": [
        "from IPython.display import clear_output"
      ],
      "execution_count": null,
      "outputs": []
    },
    {
      "cell_type": "code",
      "metadata": {
        "colab": {
          "base_uri": "https://localhost:8080/"
        },
        "id": "kSlp0xouB5Yr",
        "outputId": "692be498-6131-4dfd-8901-f376bc305a5c"
      },
      "source": [
        "!gdown --id 1lfgFK4brUhTemW3mXJVZBYTECYEoF50_"
      ],
      "execution_count": null,
      "outputs": [
        {
          "output_type": "stream",
          "text": [
            "Downloading...\n",
            "From: https://drive.google.com/uc?id=1lfgFK4brUhTemW3mXJVZBYTECYEoF50_\n",
            "To: /content/asl-alphabet.zip\n",
            "1.10GB [00:14, 78.5MB/s]\n"
          ],
          "name": "stdout"
        }
      ]
    },
    {
      "cell_type": "code",
      "metadata": {
        "id": "uSHbIdO0-reb"
      },
      "source": [
        "!unzip /content/asl-alphabet.zip\n",
        "clear_output()"
      ],
      "execution_count": null,
      "outputs": []
    },
    {
      "cell_type": "markdown",
      "metadata": {
        "id": "ZTGOrSCeKKvS"
      },
      "source": [
        "Libraries"
      ]
    },
    {
      "cell_type": "code",
      "metadata": {
        "id": "L_CHpiNU_BGN"
      },
      "source": [
        "import os\n",
        "import torch\n",
        "import torchvision\n",
        "import numpy as np\n",
        "import matplotlib.pyplot as plt\n",
        "import PIL\n",
        "import torchvision.transforms as transforms\n",
        "import torch.nn as nn\n",
        "import torch.nn.functional as F\n",
        "import matplotlib.pyplot as plt\n",
        "import numpy as np\n",
        "%matplotlib inline\n",
        "import time"
      ],
      "execution_count": null,
      "outputs": []
    },
    {
      "cell_type": "markdown",
      "metadata": {
        "id": "-lo9uCOUKQBL"
      },
      "source": [
        "Dataset and Analysis"
      ]
    },
    {
      "cell_type": "code",
      "metadata": {
        "colab": {
          "base_uri": "https://localhost:8080/"
        },
        "id": "pey6KqSMXhLm",
        "outputId": "29327ec0-ec3a-41e9-d6b1-333202a5afd9"
      },
      "source": [
        "image_folder = '/content/asl_alphabet_train/asl_alphabet_train'\n",
        "print(sorted(os.listdir(image_folder)))"
      ],
      "execution_count": null,
      "outputs": [
        {
          "output_type": "stream",
          "text": [
            "['A', 'B', 'C', 'D', 'E', 'F', 'G', 'H', 'I', 'J', 'K', 'L', 'M', 'N', 'O', 'P', 'Q', 'R', 'S', 'T', 'U', 'V', 'W', 'X', 'Y', 'Z', 'del', 'nothing', 'space']\n"
          ],
          "name": "stdout"
        }
      ]
    },
    {
      "cell_type": "markdown",
      "metadata": {
        "id": "JiYpijx6oZio"
      },
      "source": [
        "Data Augmentation"
      ]
    },
    {
      "cell_type": "code",
      "metadata": {
        "id": "RnIj9RaiyiFi"
      },
      "source": [
        "from albumentations.pytorch import ToTensor\n",
        "import albumentations as A\n",
        "\n",
        "\n",
        "\n",
        "seq = A.Compose(\n",
        "    [   A.Resize(224,224),\n",
        "        A.HorizontalFlip(p = 0.5),\n",
        "     A.Transpose(p=0.5),\n",
        "        A.OneOf([\n",
        "            A.MotionBlur(p=.3),\n",
        "            A.MedianBlur(blur_limit=3, p=0.3),\n",
        "            A.Blur(blur_limit=3, p=0.3),\n",
        "        ], p=0.3),\n",
        "        A.ShiftScaleRotate(shift_limit=0.0625, scale_limit=0.2, rotate_limit=45, p=0.2),\n",
        "        A.OneOf([\n",
        "            A.OpticalDistortion(p=0.3),\n",
        "            A.GridDistortion(p=.3),\n",
        "        ], p=0.3),\n",
        "        A.OneOf([\n",
        "            A.CLAHE(clip_limit=2),\n",
        "            A.RandomBrightnessContrast(),            \n",
        "        ], p=0.3),\n",
        "        A.HueSaturationValue(p=0.3), # apply horizontal flip to 50% of images\n",
        "        A.OneOf(\n",
        "            [\n",
        "                # apply one of transforms to 50% of images\n",
        "                A.RandomContrast(), # apply random contrast\n",
        "                A.RandomGamma(), # apply random gamma\n",
        "                A.RandomBrightness(), # apply random brightness\n",
        "            ],\n",
        "            p = 0.5\n",
        "        ),\n",
        "        \n",
        "        \n",
        "        \n",
        "        ToTensor() # convert the image to PyTorch tensor\n",
        "    ],\n",
        "    p = 1\n",
        ")\n",
        "    \n",
        "    \n",
        "seq_test=A.Compose(\n",
        "    [   A.Resize(224,224), \n",
        "       A.Normalize(\n",
        "            mean=[0.5454, 0.4439, 0.3438],\n",
        "            std=[0.2702, 0.2731, 0.2785]),ToTensor() ])"
      ],
      "execution_count": null,
      "outputs": []
    },
    {
      "cell_type": "code",
      "metadata": {
        "id": "VckvqK9l6nDi"
      },
      "source": [
        "import imageio\n",
        "import glob\n",
        "from torch.utils.data import Dataset\n",
        "\n",
        "class Custom_dataset(Dataset):\n",
        "    def __init__(self,root='/content/merged_data',img_type='png',mnist=False,transforms=None):\n",
        "      org_lst=os.listdir(root)\n",
        "      org_lst.sort()\n",
        "      cnt=0\n",
        "      self.map={}\n",
        "      self.root=root\n",
        "      self.transforms=transforms\n",
        "      self.lst=[]\n",
        "     \n",
        "      if root[-1]=='n':\n",
        "           \n",
        "        if mnist!=True:\n",
        "          \n",
        "          self.lst=glob.glob(root+'/**/*.'+img_type)\n",
        "          for i in org_lst:\n",
        "            #i=i.split('Sample')[0]\n",
        "            if i not in self.map: \n",
        "              self.map.update({i:cnt})\n",
        "              cnt+=1 \n",
        "        else:\n",
        "\n",
        "          self.lst=glob.glob(root+'/**/*.'+img_type)\n",
        "          lst1=[]\n",
        "          for i in self.lst:\n",
        "            #print(int(i.split('/')[-1].split['-'][0][-3:]))\n",
        "            if int(i.split('/')[-1].split('-')[0][-3:])<11:\n",
        "              lst1.append(i)\n",
        "          self.lst=lst1    \n",
        "\n",
        "          for i in org_lst:\n",
        "            #i=i.split('Sample')[0]\n",
        "            if i not in self.map: \n",
        "              if int(i[-3:])<11:\n",
        "               self.map.update({i:cnt})\n",
        "              cnt+=1\n",
        "      elif root[-1]=='t':\n",
        "       self.lst=glob.glob(root+'/**/*.'+img_type)\n",
        "       for i in org_lst:\n",
        "          if i not in self.map: \n",
        "            self.map.update({i:cnt})\n",
        "            cnt+=1 \n",
        "      \n",
        "      \n",
        "\n",
        "\n",
        "    def __getitem__(self, idx):\n",
        "      path=self.lst[idx]\n",
        "\n",
        "      #print(img_p)\n",
        "      #label=self.map[path.split('/')[-1].split('-')[0]]\n",
        "      label=self.map[path.split('/')[-2]]\n",
        "      \n",
        "      im=imageio.imread(path)\n",
        "      im_tensor=im\n",
        "      if self.transforms is not None:\n",
        "         im_tensor=self.transforms(image=im)['image']\n",
        "        \n",
        "      return im_tensor, torch.tensor(label).long() \n",
        "      \n",
        "    def __len__(self):\n",
        "      #print(len(self.data))\n",
        "      return len(self.lst)"
      ],
      "execution_count": null,
      "outputs": []
    },
    {
      "cell_type": "code",
      "metadata": {
        "id": "vmefhalfYGLI"
      },
      "source": [
        "from torch.utils.data import Subset\n",
        "from sklearn.model_selection import train_test_split\n",
        "from torch.utils.data import DataLoader\n",
        "\n",
        "\n",
        "def train_val_dataset(dataset, val_split=0.20):\n",
        "    train_idx, val_idx = train_test_split(list(range(len(dataset))), test_size=val_split, random_state=42)\n",
        "    datasets = {}\n",
        "    datasets['train'] = Subset(dataset, train_idx)\n",
        "    datasets['val'] = Subset(dataset, val_idx)\n",
        "    return datasets"
      ],
      "execution_count": null,
      "outputs": []
    },
    {
      "cell_type": "markdown",
      "metadata": {
        "id": "-TRb7Ypv05hj"
      },
      "source": [
        "Dont run only the below cell if transfomation is required"
      ]
    },
    {
      "cell_type": "code",
      "metadata": {
        "colab": {
          "base_uri": "https://localhost:8080/"
        },
        "id": "YJKg4zXcagYu",
        "outputId": "8bb66643-6b04-4d56-ae3c-ad6976ccad99"
      },
      "source": [
        "transform = transforms.Compose([transforms.Resize((224,224)), transforms.ToTensor()])\n",
        "dataset = torchvision.datasets.ImageFolder(root = image_folder, transform =transform )\n",
        "classes = dataset.classes\n",
        "print(classes)"
      ],
      "execution_count": null,
      "outputs": [
        {
          "output_type": "stream",
          "text": [
            "['A', 'B', 'C', 'D', 'E', 'F', 'G', 'H', 'I', 'J', 'K', 'L', 'M', 'N', 'O', 'P', 'Q', 'R', 'S', 'T', 'U', 'V', 'W', 'X', 'Y', 'Z', 'del', 'nothing', 'space']\n"
          ],
          "name": "stdout"
        }
      ]
    },
    {
      "cell_type": "markdown",
      "metadata": {
        "id": "vthY_Jyk1I6N"
      },
      "source": [
        "Run this instead"
      ]
    },
    {
      "cell_type": "code",
      "metadata": {
        "id": "HGBxd7dOxCYt"
      },
      "source": [
        "dataset=Custom_dataset(root='/content/asl_alphabet_train/asl_alphabet_train',img_type='jpg',mnist=False,transforms=seq)"
      ],
      "execution_count": null,
      "outputs": []
    },
    {
      "cell_type": "code",
      "metadata": {
        "id": "veeCNmHuaxpZ"
      },
      "source": [
        "datasets = train_val_dataset(dataset)"
      ],
      "execution_count": null,
      "outputs": []
    },
    {
      "cell_type": "markdown",
      "metadata": {
        "id": "EwlxUIx-KTqv"
      },
      "source": [
        "DataLoader"
      ]
    },
    {
      "cell_type": "code",
      "metadata": {
        "id": "hEQFyUBea9K0"
      },
      "source": [
        "batch = 512\n",
        "dataloaders = {x:DataLoader(datasets[x],batch_size=batch, shuffle=True, num_workers=2, drop_last=True) for x in ['train','val']}"
      ],
      "execution_count": null,
      "outputs": []
    },
    {
      "cell_type": "code",
      "metadata": {
        "id": "3cR2tnYPa_8y"
      },
      "source": [
        "def imshow(img):\n",
        "    #img = img / 2 + 0.5     # unnormalize\n",
        "    npimg = img.numpy()\n",
        "    plt.imshow(np.transpose(npimg, (1, 2, 0)))\n",
        "    plt.show()"
      ],
      "execution_count": null,
      "outputs": []
    },
    {
      "cell_type": "code",
      "metadata": {
        "colab": {
          "base_uri": "https://localhost:8080/",
          "height": 153
        },
        "id": "mVVeQ9xJbVhR",
        "outputId": "c1fde6fc-3536-481c-ddd0-6e45e87a4e42"
      },
      "source": [
        "# get some random training images\n",
        "dataiter = iter(dataloaders['train'])\n",
        "images, labels = dataiter.next()\n",
        "\n",
        "# show images\n",
        "imshow(torchvision.utils.make_grid(images))\n",
        "# print labels\n",
        "print(' '.join('%5s' % classes[labels[j]] for j in range(batch)))"
      ],
      "execution_count": null,
      "outputs": [
        {
          "output_type": "display_data",
          "data": {
            "image/png": "[encoded data removed]",
            "text/plain": [
              "<Figure size 432x288 with 1 Axes>"
            ]
          },
          "metadata": {
            "tags": [],
            "needs_background": "light"
          }
        },
        {
          "output_type": "stream",
          "text": [
            "    H     I     W     Y\n"
          ],
          "name": "stdout"
        }
      ]
    },
    {
      "cell_type": "markdown",
      "metadata": {
        "id": "DDke6zE5Kbsd"
      },
      "source": [
        "Training Device"
      ]
    },
    {
      "cell_type": "code",
      "metadata": {
        "colab": {
          "base_uri": "https://localhost:8080/"
        },
        "id": "5QXhSzi7bXkK",
        "outputId": "f3d583b9-731c-47b3-dba6-99888f16e324"
      },
      "source": [
        "device = torch.device(\"cuda:0\" if torch.cuda.is_available() else \"cpu\")\n",
        "device"
      ],
      "execution_count": null,
      "outputs": [
        {
          "output_type": "execute_result",
          "data": {
            "text/plain": [
              "device(type='cuda', index=0)"
            ]
          },
          "metadata": {
            "tags": []
          },
          "execution_count": 14
        }
      ]
    },
    {
      "cell_type": "markdown",
      "metadata": {
        "id": "28Qti94PKZeT"
      },
      "source": [
        "Model"
      ]
    },
    {
      "cell_type": "code",
      "metadata": {
        "colab": {
          "base_uri": "https://localhost:8080/"
        },
        "id": "kUiiOvGPz1f3",
        "outputId": "bbe339f4-a752-444f-a851-40bf16c6594d"
      },
      "source": [
        "print(torchvision.__version__)"
      ],
      "execution_count": null,
      "outputs": [
        {
          "output_type": "stream",
          "text": [
            "0.9.1+cu101\n"
          ],
          "name": "stdout"
        }
      ]
    },
    {
      "cell_type": "code",
      "metadata": {
        "colab": {
          "base_uri": "https://localhost:8080/"
        },
        "id": "-GOywuyIbgRI",
        "outputId": "5b5d1733-76ee-4984-ea3a-556afef60361"
      },
      "source": [
        "model = torchvision.models.mobilenet_v3_small(pretrained=True)\n",
        "model.classifier[3] = nn.Linear(in_features=1024, out_features=len(classes), bias=True)\n",
        "model"
      ],
      "execution_count": null,
      "outputs": [
        {
          "output_type": "execute_result",
          "data": {
            "text/plain": [
              "MobileNetV3(\n",
              "  (features): Sequential(\n",
              "    (0): ConvBNActivation(\n",
              "      (0): Conv2d(3, 16, kernel_size=(3, 3), stride=(2, 2), padding=(1, 1), bias=False)\n",
              "      (1): BatchNorm2d(16, eps=0.001, momentum=0.01, affine=True, track_running_stats=True)\n",
              "      (2): Hardswish()\n",
              "    )\n",
              "    (1): InvertedResidual(\n",
              "      (block): Sequential(\n",
              "        (0): ConvBNActivation(\n",
              "          (0): Conv2d(16, 16, kernel_size=(3, 3), stride=(2, 2), padding=(1, 1), groups=16, bias=False)\n",
              "          (1): BatchNorm2d(16, eps=0.001, momentum=0.01, affine=True, track_running_stats=True)\n",
              "          (2): ReLU(inplace=True)\n",
              "        )\n",
              "        (1): SqueezeExcitation(\n",
              "          (fc1): Conv2d(16, 8, kernel_size=(1, 1), stride=(1, 1))\n",
              "          (relu): ReLU(inplace=True)\n",
              "          (fc2): Conv2d(8, 16, kernel_size=(1, 1), stride=(1, 1))\n",
              "        )\n",
              "        (2): ConvBNActivation(\n",
              "          (0): Conv2d(16, 16, kernel_size=(1, 1), stride=(1, 1), bias=False)\n",
              "          (1): BatchNorm2d(16, eps=0.001, momentum=0.01, affine=True, track_running_stats=True)\n",
              "          (2): Identity()\n",
              "        )\n",
              "      )\n",
              "    )\n",
              "    (2): InvertedResidual(\n",
              "      (block): Sequential(\n",
              "        (0): ConvBNActivation(\n",
              "          (0): Conv2d(16, 72, kernel_size=(1, 1), stride=(1, 1), bias=False)\n",
              "          (1): BatchNorm2d(72, eps=0.001, momentum=0.01, affine=True, track_running_stats=True)\n",
              "          (2): ReLU(inplace=True)\n",
              "        )\n",
              "        (1): ConvBNActivation(\n",
              "          (0): Conv2d(72, 72, kernel_size=(3, 3), stride=(2, 2), padding=(1, 1), groups=72, bias=False)\n",
              "          (1): BatchNorm2d(72, eps=0.001, momentum=0.01, affine=True, track_running_stats=True)\n",
              "          (2): ReLU(inplace=True)\n",
              "        )\n",
              "        (2): ConvBNActivation(\n",
              "          (0): Conv2d(72, 24, kernel_size=(1, 1), stride=(1, 1), bias=False)\n",
              "          (1): BatchNorm2d(24, eps=0.001, momentum=0.01, affine=True, track_running_stats=True)\n",
              "          (2): Identity()\n",
              "        )\n",
              "      )\n",
              "    )\n",
              "    (3): InvertedResidual(\n",
              "      (block): Sequential(\n",
              "        (0): ConvBNActivation(\n",
              "          (0): Conv2d(24, 88, kernel_size=(1, 1), stride=(1, 1), bias=False)\n",
              "          (1): BatchNorm2d(88, eps=0.001, momentum=0.01, affine=True, track_running_stats=True)\n",
              "          (2): ReLU(inplace=True)\n",
              "        )\n",
              "        (1): ConvBNActivation(\n",
              "          (0): Conv2d(88, 88, kernel_size=(3, 3), stride=(1, 1), padding=(1, 1), groups=88, bias=False)\n",
              "          (1): BatchNorm2d(88, eps=0.001, momentum=0.01, affine=True, track_running_stats=True)\n",
              "          (2): ReLU(inplace=True)\n",
              "        )\n",
              "        (2): ConvBNActivation(\n",
              "          (0): Conv2d(88, 24, kernel_size=(1, 1), stride=(1, 1), bias=False)\n",
              "          (1): BatchNorm2d(24, eps=0.001, momentum=0.01, affine=True, track_running_stats=True)\n",
              "          (2): Identity()\n",
              "        )\n",
              "      )\n",
              "    )\n",
              "    (4): InvertedResidual(\n",
              "      (block): Sequential(\n",
              "        (0): ConvBNActivation(\n",
              "          (0): Conv2d(24, 96, kernel_size=(1, 1), stride=(1, 1), bias=False)\n",
              "          (1): BatchNorm2d(96, eps=0.001, momentum=0.01, affine=True, track_running_stats=True)\n",
              "          (2): Hardswish()\n",
              "        )\n",
              "        (1): ConvBNActivation(\n",
              "          (0): Conv2d(96, 96, kernel_size=(5, 5), stride=(2, 2), padding=(2, 2), groups=96, bias=False)\n",
              "          (1): BatchNorm2d(96, eps=0.001, momentum=0.01, affine=True, track_running_stats=True)\n",
              "          (2): Hardswish()\n",
              "        )\n",
              "        (2): SqueezeExcitation(\n",
              "          (fc1): Conv2d(96, 24, kernel_size=(1, 1), stride=(1, 1))\n",
              "          (relu): ReLU(inplace=True)\n",
              "          (fc2): Conv2d(24, 96, kernel_size=(1, 1), stride=(1, 1))\n",
              "        )\n",
              "        (3): ConvBNActivation(\n",
              "          (0): Conv2d(96, 40, kernel_size=(1, 1), stride=(1, 1), bias=False)\n",
              "          (1): BatchNorm2d(40, eps=0.001, momentum=0.01, affine=True, track_running_stats=True)\n",
              "          (2): Identity()\n",
              "        )\n",
              "      )\n",
              "    )\n",
              "    (5): InvertedResidual(\n",
              "      (block): Sequential(\n",
              "        (0): ConvBNActivation(\n",
              "          (0): Conv2d(40, 240, kernel_size=(1, 1), stride=(1, 1), bias=False)\n",
              "          (1): BatchNorm2d(240, eps=0.001, momentum=0.01, affine=True, track_running_stats=True)\n",
              "          (2): Hardswish()\n",
              "        )\n",
              "        (1): ConvBNActivation(\n",
              "          (0): Conv2d(240, 240, kernel_size=(5, 5), stride=(1, 1), padding=(2, 2), groups=240, bias=False)\n",
              "          (1): BatchNorm2d(240, eps=0.001, momentum=0.01, affine=True, track_running_stats=True)\n",
              "          (2): Hardswish()\n",
              "        )\n",
              "        (2): SqueezeExcitation(\n",
              "          (fc1): Conv2d(240, 64, kernel_size=(1, 1), stride=(1, 1))\n",
              "          (relu): ReLU(inplace=True)\n",
              "          (fc2): Conv2d(64, 240, kernel_size=(1, 1), stride=(1, 1))\n",
              "        )\n",
              "        (3): ConvBNActivation(\n",
              "          (0): Conv2d(240, 40, kernel_size=(1, 1), stride=(1, 1), bias=False)\n",
              "          (1): BatchNorm2d(40, eps=0.001, momentum=0.01, affine=True, track_running_stats=True)\n",
              "          (2): Identity()\n",
              "        )\n",
              "      )\n",
              "    )\n",
              "    (6): InvertedResidual(\n",
              "      (block): Sequential(\n",
              "        (0): ConvBNActivation(\n",
              "          (0): Conv2d(40, 240, kernel_size=(1, 1), stride=(1, 1), bias=False)\n",
              "          (1): BatchNorm2d(240, eps=0.001, momentum=0.01, affine=True, track_running_stats=True)\n",
              "          (2): Hardswish()\n",
              "        )\n",
              "        (1): ConvBNActivation(\n",
              "          (0): Conv2d(240, 240, kernel_size=(5, 5), stride=(1, 1), padding=(2, 2), groups=240, bias=False)\n",
              "          (1): BatchNorm2d(240, eps=0.001, momentum=0.01, affine=True, track_running_stats=True)\n",
              "          (2): Hardswish()\n",
              "        )\n",
              "        (2): SqueezeExcitation(\n",
              "          (fc1): Conv2d(240, 64, kernel_size=(1, 1), stride=(1, 1))\n",
              "          (relu): ReLU(inplace=True)\n",
              "          (fc2): Conv2d(64, 240, kernel_size=(1, 1), stride=(1, 1))\n",
              "        )\n",
              "        (3): ConvBNActivation(\n",
              "          (0): Conv2d(240, 40, kernel_size=(1, 1), stride=(1, 1), bias=False)\n",
              "          (1): BatchNorm2d(40, eps=0.001, momentum=0.01, affine=True, track_running_stats=True)\n",
              "          (2): Identity()\n",
              "        )\n",
              "      )\n",
              "    )\n",
              "    (7): InvertedResidual(\n",
              "      (block): Sequential(\n",
              "        (0): ConvBNActivation(\n",
              "          (0): Conv2d(40, 120, kernel_size=(1, 1), stride=(1, 1), bias=False)\n",
              "          (1): BatchNorm2d(120, eps=0.001, momentum=0.01, affine=True, track_running_stats=True)\n",
              "          (2): Hardswish()\n",
              "        )\n",
              "        (1): ConvBNActivation(\n",
              "          (0): Conv2d(120, 120, kernel_size=(5, 5), stride=(1, 1), padding=(2, 2), groups=120, bias=False)\n",
              "          (1): BatchNorm2d(120, eps=0.001, momentum=0.01, affine=True, track_running_stats=True)\n",
              "          (2): Hardswish()\n",
              "        )\n",
              "        (2): SqueezeExcitation(\n",
              "          (fc1): Conv2d(120, 32, kernel_size=(1, 1), stride=(1, 1))\n",
              "          (relu): ReLU(inplace=True)\n",
              "          (fc2): Conv2d(32, 120, kernel_size=(1, 1), stride=(1, 1))\n",
              "        )\n",
              "        (3): ConvBNActivation(\n",
              "          (0): Conv2d(120, 48, kernel_size=(1, 1), stride=(1, 1), bias=False)\n",
              "          (1): BatchNorm2d(48, eps=0.001, momentum=0.01, affine=True, track_running_stats=True)\n",
              "          (2): Identity()\n",
              "        )\n",
              "      )\n",
              "    )\n",
              "    (8): InvertedResidual(\n",
              "      (block): Sequential(\n",
              "        (0): ConvBNActivation(\n",
              "          (0): Conv2d(48, 144, kernel_size=(1, 1), stride=(1, 1), bias=False)\n",
              "          (1): BatchNorm2d(144, eps=0.001, momentum=0.01, affine=True, track_running_stats=True)\n",
              "          (2): Hardswish()\n",
              "        )\n",
              "        (1): ConvBNActivation(\n",
              "          (0): Conv2d(144, 144, kernel_size=(5, 5), stride=(1, 1), padding=(2, 2), groups=144, bias=False)\n",
              "          (1): BatchNorm2d(144, eps=0.001, momentum=0.01, affine=True, track_running_stats=True)\n",
              "          (2): Hardswish()\n",
              "        )\n",
              "        (2): SqueezeExcitation(\n",
              "          (fc1): Conv2d(144, 40, kernel_size=(1, 1), stride=(1, 1))\n",
              "          (relu): ReLU(inplace=True)\n",
              "          (fc2): Conv2d(40, 144, kernel_size=(1, 1), stride=(1, 1))\n",
              "        )\n",
              "        (3): ConvBNActivation(\n",
              "          (0): Conv2d(144, 48, kernel_size=(1, 1), stride=(1, 1), bias=False)\n",
              "          (1): BatchNorm2d(48, eps=0.001, momentum=0.01, affine=True, track_running_stats=True)\n",
              "          (2): Identity()\n",
              "        )\n",
              "      )\n",
              "    )\n",
              "    (9): InvertedResidual(\n",
              "      (block): Sequential(\n",
              "        (0): ConvBNActivation(\n",
              "          (0): Conv2d(48, 288, kernel_size=(1, 1), stride=(1, 1), bias=False)\n",
              "          (1): BatchNorm2d(288, eps=0.001, momentum=0.01, affine=True, track_running_stats=True)\n",
              "          (2): Hardswish()\n",
              "        )\n",
              "        (1): ConvBNActivation(\n",
              "          (0): Conv2d(288, 288, kernel_size=(5, 5), stride=(2, 2), padding=(2, 2), groups=288, bias=False)\n",
              "          (1): BatchNorm2d(288, eps=0.001, momentum=0.01, affine=True, track_running_stats=True)\n",
              "          (2): Hardswish()\n",
              "        )\n",
              "        (2): SqueezeExcitation(\n",
              "          (fc1): Conv2d(288, 72, kernel_size=(1, 1), stride=(1, 1))\n",
              "          (relu): ReLU(inplace=True)\n",
              "          (fc2): Conv2d(72, 288, kernel_size=(1, 1), stride=(1, 1))\n",
              "        )\n",
              "        (3): ConvBNActivation(\n",
              "          (0): Conv2d(288, 96, kernel_size=(1, 1), stride=(1, 1), bias=False)\n",
              "          (1): BatchNorm2d(96, eps=0.001, momentum=0.01, affine=True, track_running_stats=True)\n",
              "          (2): Identity()\n",
              "        )\n",
              "      )\n",
              "    )\n",
              "    (10): InvertedResidual(\n",
              "      (block): Sequential(\n",
              "        (0): ConvBNActivation(\n",
              "          (0): Conv2d(96, 576, kernel_size=(1, 1), stride=(1, 1), bias=False)\n",
              "          (1): BatchNorm2d(576, eps=0.001, momentum=0.01, affine=True, track_running_stats=True)\n",
              "          (2): Hardswish()\n",
              "        )\n",
              "        (1): ConvBNActivation(\n",
              "          (0): Conv2d(576, 576, kernel_size=(5, 5), stride=(1, 1), padding=(2, 2), groups=576, bias=False)\n",
              "          (1): BatchNorm2d(576, eps=0.001, momentum=0.01, affine=True, track_running_stats=True)\n",
              "          (2): Hardswish()\n",
              "        )\n",
              "        (2): SqueezeExcitation(\n",
              "          (fc1): Conv2d(576, 144, kernel_size=(1, 1), stride=(1, 1))\n",
              "          (relu): ReLU(inplace=True)\n",
              "          (fc2): Conv2d(144, 576, kernel_size=(1, 1), stride=(1, 1))\n",
              "        )\n",
              "        (3): ConvBNActivation(\n",
              "          (0): Conv2d(576, 96, kernel_size=(1, 1), stride=(1, 1), bias=False)\n",
              "          (1): BatchNorm2d(96, eps=0.001, momentum=0.01, affine=True, track_running_stats=True)\n",
              "          (2): Identity()\n",
              "        )\n",
              "      )\n",
              "    )\n",
              "    (11): InvertedResidual(\n",
              "      (block): Sequential(\n",
              "        (0): ConvBNActivation(\n",
              "          (0): Conv2d(96, 576, kernel_size=(1, 1), stride=(1, 1), bias=False)\n",
              "          (1): BatchNorm2d(576, eps=0.001, momentum=0.01, affine=True, track_running_stats=True)\n",
              "          (2): Hardswish()\n",
              "        )\n",
              "        (1): ConvBNActivation(\n",
              "          (0): Conv2d(576, 576, kernel_size=(5, 5), stride=(1, 1), padding=(2, 2), groups=576, bias=False)\n",
              "          (1): BatchNorm2d(576, eps=0.001, momentum=0.01, affine=True, track_running_stats=True)\n",
              "          (2): Hardswish()\n",
              "        )\n",
              "        (2): SqueezeExcitation(\n",
              "          (fc1): Conv2d(576, 144, kernel_size=(1, 1), stride=(1, 1))\n",
              "          (relu): ReLU(inplace=True)\n",
              "          (fc2): Conv2d(144, 576, kernel_size=(1, 1), stride=(1, 1))\n",
              "        )\n",
              "        (3): ConvBNActivation(\n",
              "          (0): Conv2d(576, 96, kernel_size=(1, 1), stride=(1, 1), bias=False)\n",
              "          (1): BatchNorm2d(96, eps=0.001, momentum=0.01, affine=True, track_running_stats=True)\n",
              "          (2): Identity()\n",
              "        )\n",
              "      )\n",
              "    )\n",
              "    (12): ConvBNActivation(\n",
              "      (0): Conv2d(96, 576, kernel_size=(1, 1), stride=(1, 1), bias=False)\n",
              "      (1): BatchNorm2d(576, eps=0.001, momentum=0.01, affine=True, track_running_stats=True)\n",
              "      (2): Hardswish()\n",
              "    )\n",
              "  )\n",
              "  (avgpool): AdaptiveAvgPool2d(output_size=1)\n",
              "  (classifier): Sequential(\n",
              "    (0): Linear(in_features=576, out_features=1024, bias=True)\n",
              "    (1): Hardswish()\n",
              "    (2): Dropout(p=0.2, inplace=True)\n",
              "    (3): Linear(in_features=1024, out_features=29, bias=True)\n",
              "  )\n",
              ")"
            ]
          },
          "metadata": {
            "tags": []
          },
          "execution_count": 20
        }
      ]
    },
    {
      "cell_type": "markdown",
      "metadata": {
        "id": "AY_XJDQVKiuH"
      },
      "source": [
        "Training Parameters"
      ]
    },
    {
      "cell_type": "code",
      "metadata": {
        "colab": {
          "base_uri": "https://localhost:8080/"
        },
        "id": "XwCtWwNlz0Je",
        "outputId": "0cb56d5a-f136-4596-bd22-86ccd43733a9"
      },
      "source": [
        "PATH = '/content/epoch.pt'\n",
        "model = model.to(device)\n",
        "model.load_state_dict(torch.load(PATH))"
      ],
      "execution_count": null,
      "outputs": [
        {
          "output_type": "execute_result",
          "data": {
            "text/plain": [
              "<All keys matched successfully>"
            ]
          },
          "metadata": {
            "tags": []
          },
          "execution_count": 23
        }
      ]
    },
    {
      "cell_type": "code",
      "metadata": {
        "id": "rVZdGgpcfLl5"
      },
      "source": [
        "model = model.to(device)\n",
        "model = model.train()\n",
        "min_loss = 100\n",
        "patience = 4\n",
        "training_loss_store = []\n",
        "validation_loss_store = []\n",
        "step = 0\n",
        "loss_train = []\n",
        "loss_val = []"
      ],
      "execution_count": null,
      "outputs": []
    },
    {
      "cell_type": "code",
      "metadata": {
        "id": "bb7WnemMgVv2"
      },
      "source": [
        "import torch.optim as optim\n",
        "criterion = nn.CrossEntropyLoss()\n",
        "optimizer = optim.SGD(model.parameters(), lr=0.001, momentum=0.9)\n",
        "epoch_list = []\n",
        "loss_list = []\n",
        "loss_list_val = []\n",
        "no_impr_epoch = 0"
      ],
      "execution_count": null,
      "outputs": []
    },
    {
      "cell_type": "markdown",
      "metadata": {
        "id": "DhtMrt79KlWv"
      },
      "source": [
        "Training"
      ]
    },
    {
      "cell_type": "code",
      "metadata": {
        "colab": {
          "base_uri": "https://localhost:8080/"
        },
        "id": "zKeMG4Z_gX36",
        "outputId": "0500185a-b4ee-4b6e-8d2e-c29a2b1cc89d"
      },
      "source": [
        "criterion = nn.CrossEntropyLoss()\n",
        "optimizer = optim.SGD(model.parameters(), lr=0.001, momentum=0.9)\n",
        "\n",
        "print('training started.............................................')\n",
        "start_time = time.time()\n",
        "for epoch in range(15):  # loop over the dataset multiple times\n",
        "    running_loss = 0.0\n",
        "    epoch_list.append(epoch)\n",
        "    train_loss = 0\n",
        "    for i, data in enumerate(dataloaders['train'], 0):\n",
        "        step+=1\n",
        "        # get the inputs; data is a list of [inputs, labels]\n",
        "        inputs, labels = data[0].to(device),data[1].to(device)\n",
        "\n",
        "        # zero the parameter gradients\n",
        "        optimizer.zero_grad()\n",
        "        # forward + backward + optimize\n",
        "        outputs = model(inputs)\n",
        "        loss = criterion(outputs, labels)\n",
        "        loss_train.append(loss.item())\n",
        "        train_loss += loss.item() * inputs.size(0)\n",
        "        training_loss_store.append([epoch, loss.item()])\n",
        "        loss.backward()\n",
        "        optimizer.step()\n",
        "\n",
        "        # print statistics\n",
        "        running_loss += loss.item()\n",
        "        if i % 30 == 29:    # print every 10 mini-batches\n",
        "            print('[%d, %5d] loss: %.3f' %(epoch + 1, i + 1, running_loss / 30))\n",
        "            loss_train = []\n",
        "            running_loss = 0.0\n",
        "\n",
        "    train_loss = train_loss / len(dataloaders['train'])\n",
        "    loss_list.append(train_loss)      \n",
        "    print('Finished training for epoch ' + str(epoch) + ' time taken = ' + str(time.time() - start_time))\n",
        "    print('################################evaluation###########################\\n')\n",
        "    with torch.no_grad():\n",
        "        val_loss = 0\n",
        "        model.eval()\n",
        "        loss_val_x = 0\n",
        "        \n",
        "        for i, data in enumerate(dataloaders['val'], 0):\n",
        "            step+=1\n",
        "            inputs, labels = data[0].to(device),data[1].to(device)\n",
        "            outputs = model(inputs)\n",
        "            loss = criterion(outputs, labels)\n",
        "            loss_val.append(loss.item())\n",
        "            loss_val_x += loss.item() * inputs.size(0)\n",
        "            validation_loss_store.append([epoch, loss.item()])\n",
        "            val_loss += loss\n",
        "            \n",
        "        val_loss = val_loss/float(i + 1)\n",
        "        loss_val_x = loss_val_x/len(dataloaders['val'])\n",
        "        loss_list_val = loss_val.append(loss_val)\n",
        "        if val_loss < min_loss:\n",
        "            min_loss = val_loss\n",
        "            no_impr_epoch = 0\n",
        "            \n",
        "            #save the best model\n",
        "            torch.save(model.state_dict(), 'epoch.pt')\n",
        "            print(str(val_loss))\n",
        "            \n",
        "            print('performance improved with validation loss ' + str(val_loss))\n",
        "            \n",
        "            loss_val = []\n",
        "        else:\n",
        "            no_impr_epoch += 1\n",
        "            print('no improvement with prev best model ' + str(no_impr_epoch) + 'th')\n",
        "            \n",
        "        if no_impr_epoch > patience:\n",
        "            print('stop training')\n",
        "            break\n",
        "    \n",
        "print('Finished Training................................................')\n",
        "end_time = time.time()"
      ],
      "execution_count": null,
      "outputs": [
        {
          "output_type": "stream",
          "text": [
            "training started.............................................\n",
            "[1,    30] loss: 2.053\n",
            "[1,    60] loss: 1.765\n",
            "[1,    90] loss: 1.506\n",
            "[1,   120] loss: 1.305\n",
            "Finished training for epoch 0 time taken = 290.9146010875702\n",
            "################################evaluation###########################\n",
            "\n",
            "tensor(0.4200, device='cuda:0')\n",
            "performance improved with validation loss tensor(0.4200, device='cuda:0')\n",
            "[2,    30] loss: 0.205\n",
            "[2,    60] loss: 0.101\n",
            "[2,    90] loss: 0.093\n",
            "[2,   120] loss: 0.083\n",
            "Finished training for epoch 1 time taken = 639.9618618488312\n",
            "################################evaluation###########################\n",
            "\n",
            "tensor(0.0788, device='cuda:0')\n",
            "performance improved with validation loss tensor(0.0788, device='cuda:0')\n",
            "[3,    30] loss: 0.073\n",
            "[3,    60] loss: 0.075\n",
            "[3,    90] loss: 0.069\n",
            "[3,   120] loss: 0.068\n",
            "Finished training for epoch 2 time taken = 1012.6475644111633\n",
            "################################evaluation###########################\n",
            "\n",
            "tensor(0.0599, device='cuda:0')\n",
            "performance improved with validation loss tensor(0.0599, device='cuda:0')\n",
            "[4,    30] loss: 0.058\n",
            "[4,    60] loss: 0.057\n",
            "[4,    90] loss: 0.059\n",
            "[4,   120] loss: 0.059\n",
            "Finished training for epoch 3 time taken = 1381.7325098514557\n",
            "################################evaluation###########################\n",
            "\n",
            "tensor(0.0515, device='cuda:0')\n",
            "performance improved with validation loss tensor(0.0515, device='cuda:0')\n",
            "[5,    30] loss: 0.050\n",
            "[5,    60] loss: 0.056\n",
            "[5,    90] loss: 0.057\n",
            "[5,   120] loss: 0.047\n",
            "Finished training for epoch 4 time taken = 1749.846669435501\n",
            "################################evaluation###########################\n",
            "\n",
            "tensor(0.0501, device='cuda:0')\n",
            "performance improved with validation loss tensor(0.0501, device='cuda:0')\n",
            "[6,    60] loss: 0.050\n",
            "[6,    90] loss: 0.049\n",
            "[6,   120] loss: 0.044\n",
            "Finished training for epoch 5 time taken = 2118.3036954402924\n",
            "################################evaluation###########################\n",
            "\n",
            "no improvement with prev best model 1th\n",
            "[7,    30] loss: 0.050\n",
            "[7,    60] loss: 0.049\n",
            "[7,    90] loss: 0.038\n",
            "[7,   120] loss: 0.044\n",
            "Finished training for epoch 6 time taken = 2487.2431943416595\n",
            "################################evaluation###########################\n",
            "\n",
            "no improvement with prev best model 2th\n",
            "[8,    30] loss: 0.042\n",
            "[8,    60] loss: 0.042\n",
            "[8,    90] loss: 0.043\n",
            "[8,   120] loss: 0.042\n",
            "Finished training for epoch 7 time taken = 2849.0092027187347\n",
            "################################evaluation###########################\n",
            "\n",
            "tensor(0.0392, device='cuda:0')\n",
            "performance improved with validation loss tensor(0.0392, device='cuda:0')\n",
            "[9,    30] loss: 0.040\n",
            "[9,    60] loss: 0.038\n",
            "[9,    90] loss: 0.041\n",
            "[9,   120] loss: 0.040\n",
            "Finished training for epoch 8 time taken = 3212.9451816082\n",
            "################################evaluation###########################\n",
            "\n",
            "no improvement with prev best model 1th\n",
            "[10,    30] loss: 0.041\n",
            "[10,    60] loss: 0.042\n",
            "[10,    90] loss: 0.037\n",
            "[10,   120] loss: 0.036\n",
            "Finished training for epoch 9 time taken = 3577.287323951721\n",
            "################################evaluation###########################\n",
            "\n",
            "tensor(0.0353, device='cuda:0')\n",
            "performance improved with validation loss tensor(0.0353, device='cuda:0')\n",
            "[11,    30] loss: 0.034\n",
            "[11,    60] loss: 0.038\n",
            "[11,    90] loss: 0.040\n",
            "[11,   120] loss: 0.036\n",
            "Finished training for epoch 10 time taken = 3941.0742692947388\n",
            "################################evaluation###########################\n",
            "\n",
            "tensor(0.0349, device='cuda:0')\n",
            "performance improved with validation loss tensor(0.0349, device='cuda:0')\n",
            "[12,    30] loss: 0.034\n",
            "[12,    60] loss: 0.032\n",
            "[12,    90] loss: 0.035\n",
            "[12,   120] loss: 0.027\n",
            "Finished training for epoch 11 time taken = 4292.902481794357\n",
            "################################evaluation###########################\n",
            "\n",
            "tensor(0.0328, device='cuda:0')\n",
            "performance improved with validation loss tensor(0.0328, device='cuda:0')\n",
            "[13,    30] loss: 0.032\n",
            "[13,    60] loss: 0.032\n",
            "[13,    90] loss: 0.032\n",
            "[13,   120] loss: 0.031\n",
            "Finished training for epoch 12 time taken = 4663.225925922394\n",
            "################################evaluation###########################\n",
            "\n",
            "no improvement with prev best model 1th\n",
            "[14,    30] loss: 0.034\n",
            "[14,    60] loss: 0.037\n",
            "[14,    90] loss: 0.033\n",
            "[14,   120] loss: 0.030\n",
            "Finished training for epoch 13 time taken = 5024.559506177902\n",
            "################################evaluation###########################\n",
            "\n",
            "tensor(0.0310, device='cuda:0')\n",
            "performance improved with validation loss tensor(0.0310, device='cuda:0')\n",
            "[15,    30] loss: 0.028\n",
            "[15,    60] loss: 0.031\n",
            "[15,    90] loss: 0.027\n",
            "[15,   120] loss: 0.027\n",
            "Finished training for epoch 14 time taken = 5392.54089641571\n",
            "################################evaluation###########################\n",
            "\n",
            "no improvement with prev best model 1th\n",
            "Finished Training................................................\n"
          ],
          "name": "stdout"
        }
      ]
    },
    {
      "cell_type": "code",
      "metadata": {
        "colab": {
          "base_uri": "https://localhost:8080/"
        },
        "id": "cnpBzP6bzTFW",
        "outputId": "7b1f47fc-c0ba-4e07-9972-eccc421f8e36"
      },
      "source": [
        "PATH = '/content/epoch.pt'\n",
        "model = model.to(device)\n",
        "model.load_state_dict(torch.load(PATH))\n",
        "model.eval()"
      ],
      "execution_count": null,
      "outputs": [
        {
          "output_type": "execute_result",
          "data": {
            "text/plain": [
              "MobileNetV3(\n",
              "  (features): Sequential(\n",
              "    (0): ConvBNActivation(\n",
              "      (0): Conv2d(3, 16, kernel_size=(3, 3), stride=(2, 2), padding=(1, 1), bias=False)\n",
              "      (1): BatchNorm2d(16, eps=0.001, momentum=0.01, affine=True, track_running_stats=True)\n",
              "      (2): Hardswish()\n",
              "    )\n",
              "    (1): InvertedResidual(\n",
              "      (block): Sequential(\n",
              "        (0): ConvBNActivation(\n",
              "          (0): Conv2d(16, 16, kernel_size=(3, 3), stride=(2, 2), padding=(1, 1), groups=16, bias=False)\n",
              "          (1): BatchNorm2d(16, eps=0.001, momentum=0.01, affine=True, track_running_stats=True)\n",
              "          (2): ReLU(inplace=True)\n",
              "        )\n",
              "        (1): SqueezeExcitation(\n",
              "          (fc1): Conv2d(16, 8, kernel_size=(1, 1), stride=(1, 1))\n",
              "          (relu): ReLU(inplace=True)\n",
              "          (fc2): Conv2d(8, 16, kernel_size=(1, 1), stride=(1, 1))\n",
              "        )\n",
              "        (2): ConvBNActivation(\n",
              "          (0): Conv2d(16, 16, kernel_size=(1, 1), stride=(1, 1), bias=False)\n",
              "          (1): BatchNorm2d(16, eps=0.001, momentum=0.01, affine=True, track_running_stats=True)\n",
              "          (2): Identity()\n",
              "        )\n",
              "      )\n",
              "    )\n",
              "    (2): InvertedResidual(\n",
              "      (block): Sequential(\n",
              "        (0): ConvBNActivation(\n",
              "          (0): Conv2d(16, 72, kernel_size=(1, 1), stride=(1, 1), bias=False)\n",
              "          (1): BatchNorm2d(72, eps=0.001, momentum=0.01, affine=True, track_running_stats=True)\n",
              "          (2): ReLU(inplace=True)\n",
              "        )\n",
              "        (1): ConvBNActivation(\n",
              "          (0): Conv2d(72, 72, kernel_size=(3, 3), stride=(2, 2), padding=(1, 1), groups=72, bias=False)\n",
              "          (1): BatchNorm2d(72, eps=0.001, momentum=0.01, affine=True, track_running_stats=True)\n",
              "          (2): ReLU(inplace=True)\n",
              "        )\n",
              "        (2): ConvBNActivation(\n",
              "          (0): Conv2d(72, 24, kernel_size=(1, 1), stride=(1, 1), bias=False)\n",
              "          (1): BatchNorm2d(24, eps=0.001, momentum=0.01, affine=True, track_running_stats=True)\n",
              "          (2): Identity()\n",
              "        )\n",
              "      )\n",
              "    )\n",
              "    (3): InvertedResidual(\n",
              "      (block): Sequential(\n",
              "        (0): ConvBNActivation(\n",
              "          (0): Conv2d(24, 88, kernel_size=(1, 1), stride=(1, 1), bias=False)\n",
              "          (1): BatchNorm2d(88, eps=0.001, momentum=0.01, affine=True, track_running_stats=True)\n",
              "          (2): ReLU(inplace=True)\n",
              "        )\n",
              "        (1): ConvBNActivation(\n",
              "          (0): Conv2d(88, 88, kernel_size=(3, 3), stride=(1, 1), padding=(1, 1), groups=88, bias=False)\n",
              "          (1): BatchNorm2d(88, eps=0.001, momentum=0.01, affine=True, track_running_stats=True)\n",
              "          (2): ReLU(inplace=True)\n",
              "        )\n",
              "        (2): ConvBNActivation(\n",
              "          (0): Conv2d(88, 24, kernel_size=(1, 1), stride=(1, 1), bias=False)\n",
              "          (1): BatchNorm2d(24, eps=0.001, momentum=0.01, affine=True, track_running_stats=True)\n",
              "          (2): Identity()\n",
              "        )\n",
              "      )\n",
              "    )\n",
              "    (4): InvertedResidual(\n",
              "      (block): Sequential(\n",
              "        (0): ConvBNActivation(\n",
              "          (0): Conv2d(24, 96, kernel_size=(1, 1), stride=(1, 1), bias=False)\n",
              "          (1): BatchNorm2d(96, eps=0.001, momentum=0.01, affine=True, track_running_stats=True)\n",
              "          (2): Hardswish()\n",
              "        )\n",
              "        (1): ConvBNActivation(\n",
              "          (0): Conv2d(96, 96, kernel_size=(5, 5), stride=(2, 2), padding=(2, 2), groups=96, bias=False)\n",
              "          (1): BatchNorm2d(96, eps=0.001, momentum=0.01, affine=True, track_running_stats=True)\n",
              "          (2): Hardswish()\n",
              "        )\n",
              "        (2): SqueezeExcitation(\n",
              "          (fc1): Conv2d(96, 24, kernel_size=(1, 1), stride=(1, 1))\n",
              "          (relu): ReLU(inplace=True)\n",
              "          (fc2): Conv2d(24, 96, kernel_size=(1, 1), stride=(1, 1))\n",
              "        )\n",
              "        (3): ConvBNActivation(\n",
              "          (0): Conv2d(96, 40, kernel_size=(1, 1), stride=(1, 1), bias=False)\n",
              "          (1): BatchNorm2d(40, eps=0.001, momentum=0.01, affine=True, track_running_stats=True)\n",
              "          (2): Identity()\n",
              "        )\n",
              "      )\n",
              "    )\n",
              "    (5): InvertedResidual(\n",
              "      (block): Sequential(\n",
              "        (0): ConvBNActivation(\n",
              "          (0): Conv2d(40, 240, kernel_size=(1, 1), stride=(1, 1), bias=False)\n",
              "          (1): BatchNorm2d(240, eps=0.001, momentum=0.01, affine=True, track_running_stats=True)\n",
              "          (2): Hardswish()\n",
              "        )\n",
              "        (1): ConvBNActivation(\n",
              "          (0): Conv2d(240, 240, kernel_size=(5, 5), stride=(1, 1), padding=(2, 2), groups=240, bias=False)\n",
              "          (1): BatchNorm2d(240, eps=0.001, momentum=0.01, affine=True, track_running_stats=True)\n",
              "          (2): Hardswish()\n",
              "        )\n",
              "        (2): SqueezeExcitation(\n",
              "          (fc1): Conv2d(240, 64, kernel_size=(1, 1), stride=(1, 1))\n",
              "          (relu): ReLU(inplace=True)\n",
              "          (fc2): Conv2d(64, 240, kernel_size=(1, 1), stride=(1, 1))\n",
              "        )\n",
              "        (3): ConvBNActivation(\n",
              "          (0): Conv2d(240, 40, kernel_size=(1, 1), stride=(1, 1), bias=False)\n",
              "          (1): BatchNorm2d(40, eps=0.001, momentum=0.01, affine=True, track_running_stats=True)\n",
              "          (2): Identity()\n",
              "        )\n",
              "      )\n",
              "    )\n",
              "    (6): InvertedResidual(\n",
              "      (block): Sequential(\n",
              "        (0): ConvBNActivation(\n",
              "          (0): Conv2d(40, 240, kernel_size=(1, 1), stride=(1, 1), bias=False)\n",
              "          (1): BatchNorm2d(240, eps=0.001, momentum=0.01, affine=True, track_running_stats=True)\n",
              "          (2): Hardswish()\n",
              "        )\n",
              "        (1): ConvBNActivation(\n",
              "          (0): Conv2d(240, 240, kernel_size=(5, 5), stride=(1, 1), padding=(2, 2), groups=240, bias=False)\n",
              "          (1): BatchNorm2d(240, eps=0.001, momentum=0.01, affine=True, track_running_stats=True)\n",
              "          (2): Hardswish()\n",
              "        )\n",
              "        (2): SqueezeExcitation(\n",
              "          (fc1): Conv2d(240, 64, kernel_size=(1, 1), stride=(1, 1))\n",
              "          (relu): ReLU(inplace=True)\n",
              "          (fc2): Conv2d(64, 240, kernel_size=(1, 1), stride=(1, 1))\n",
              "        )\n",
              "        (3): ConvBNActivation(\n",
              "          (0): Conv2d(240, 40, kernel_size=(1, 1), stride=(1, 1), bias=False)\n",
              "          (1): BatchNorm2d(40, eps=0.001, momentum=0.01, affine=True, track_running_stats=True)\n",
              "          (2): Identity()\n",
              "        )\n",
              "      )\n",
              "    )\n",
              "    (7): InvertedResidual(\n",
              "      (block): Sequential(\n",
              "        (0): ConvBNActivation(\n",
              "          (0): Conv2d(40, 120, kernel_size=(1, 1), stride=(1, 1), bias=False)\n",
              "          (1): BatchNorm2d(120, eps=0.001, momentum=0.01, affine=True, track_running_stats=True)\n",
              "          (2): Hardswish()\n",
              "        )\n",
              "        (1): ConvBNActivation(\n",
              "          (0): Conv2d(120, 120, kernel_size=(5, 5), stride=(1, 1), padding=(2, 2), groups=120, bias=False)\n",
              "          (1): BatchNorm2d(120, eps=0.001, momentum=0.01, affine=True, track_running_stats=True)\n",
              "          (2): Hardswish()\n",
              "        )\n",
              "        (2): SqueezeExcitation(\n",
              "          (fc1): Conv2d(120, 32, kernel_size=(1, 1), stride=(1, 1))\n",
              "          (relu): ReLU(inplace=True)\n",
              "          (fc2): Conv2d(32, 120, kernel_size=(1, 1), stride=(1, 1))\n",
              "        )\n",
              "        (3): ConvBNActivation(\n",
              "          (0): Conv2d(120, 48, kernel_size=(1, 1), stride=(1, 1), bias=False)\n",
              "          (1): BatchNorm2d(48, eps=0.001, momentum=0.01, affine=True, track_running_stats=True)\n",
              "          (2): Identity()\n",
              "        )\n",
              "      )\n",
              "    )\n",
              "    (8): InvertedResidual(\n",
              "      (block): Sequential(\n",
              "        (0): ConvBNActivation(\n",
              "          (0): Conv2d(48, 144, kernel_size=(1, 1), stride=(1, 1), bias=False)\n",
              "          (1): BatchNorm2d(144, eps=0.001, momentum=0.01, affine=True, track_running_stats=True)\n",
              "          (2): Hardswish()\n",
              "        )\n",
              "        (1): ConvBNActivation(\n",
              "          (0): Conv2d(144, 144, kernel_size=(5, 5), stride=(1, 1), padding=(2, 2), groups=144, bias=False)\n",
              "          (1): BatchNorm2d(144, eps=0.001, momentum=0.01, affine=True, track_running_stats=True)\n",
              "          (2): Hardswish()\n",
              "        )\n",
              "        (2): SqueezeExcitation(\n",
              "          (fc1): Conv2d(144, 40, kernel_size=(1, 1), stride=(1, 1))\n",
              "          (relu): ReLU(inplace=True)\n",
              "          (fc2): Conv2d(40, 144, kernel_size=(1, 1), stride=(1, 1))\n",
              "        )\n",
              "        (3): ConvBNActivation(\n",
              "          (0): Conv2d(144, 48, kernel_size=(1, 1), stride=(1, 1), bias=False)\n",
              "          (1): BatchNorm2d(48, eps=0.001, momentum=0.01, affine=True, track_running_stats=True)\n",
              "          (2): Identity()\n",
              "        )\n",
              "      )\n",
              "    )\n",
              "    (9): InvertedResidual(\n",
              "      (block): Sequential(\n",
              "        (0): ConvBNActivation(\n",
              "          (0): Conv2d(48, 288, kernel_size=(1, 1), stride=(1, 1), bias=False)\n",
              "          (1): BatchNorm2d(288, eps=0.001, momentum=0.01, affine=True, track_running_stats=True)\n",
              "          (2): Hardswish()\n",
              "        )\n",
              "        (1): ConvBNActivation(\n",
              "          (0): Conv2d(288, 288, kernel_size=(5, 5), stride=(2, 2), padding=(2, 2), groups=288, bias=False)\n",
              "          (1): BatchNorm2d(288, eps=0.001, momentum=0.01, affine=True, track_running_stats=True)\n",
              "          (2): Hardswish()\n",
              "        )\n",
              "        (2): SqueezeExcitation(\n",
              "          (fc1): Conv2d(288, 72, kernel_size=(1, 1), stride=(1, 1))\n",
              "          (relu): ReLU(inplace=True)\n",
              "          (fc2): Conv2d(72, 288, kernel_size=(1, 1), stride=(1, 1))\n",
              "        )\n",
              "        (3): ConvBNActivation(\n",
              "          (0): Conv2d(288, 96, kernel_size=(1, 1), stride=(1, 1), bias=False)\n",
              "          (1): BatchNorm2d(96, eps=0.001, momentum=0.01, affine=True, track_running_stats=True)\n",
              "          (2): Identity()\n",
              "        )\n",
              "      )\n",
              "    )\n",
              "    (10): InvertedResidual(\n",
              "      (block): Sequential(\n",
              "        (0): ConvBNActivation(\n",
              "          (0): Conv2d(96, 576, kernel_size=(1, 1), stride=(1, 1), bias=False)\n",
              "          (1): BatchNorm2d(576, eps=0.001, momentum=0.01, affine=True, track_running_stats=True)\n",
              "          (2): Hardswish()\n",
              "        )\n",
              "        (1): ConvBNActivation(\n",
              "          (0): Conv2d(576, 576, kernel_size=(5, 5), stride=(1, 1), padding=(2, 2), groups=576, bias=False)\n",
              "          (1): BatchNorm2d(576, eps=0.001, momentum=0.01, affine=True, track_running_stats=True)\n",
              "          (2): Hardswish()\n",
              "        )\n",
              "        (2): SqueezeExcitation(\n",
              "          (fc1): Conv2d(576, 144, kernel_size=(1, 1), stride=(1, 1))\n",
              "          (relu): ReLU(inplace=True)\n",
              "          (fc2): Conv2d(144, 576, kernel_size=(1, 1), stride=(1, 1))\n",
              "        )\n",
              "        (3): ConvBNActivation(\n",
              "          (0): Conv2d(576, 96, kernel_size=(1, 1), stride=(1, 1), bias=False)\n",
              "          (1): BatchNorm2d(96, eps=0.001, momentum=0.01, affine=True, track_running_stats=True)\n",
              "          (2): Identity()\n",
              "        )\n",
              "      )\n",
              "    )\n",
              "    (11): InvertedResidual(\n",
              "      (block): Sequential(\n",
              "        (0): ConvBNActivation(\n",
              "          (0): Conv2d(96, 576, kernel_size=(1, 1), stride=(1, 1), bias=False)\n",
              "          (1): BatchNorm2d(576, eps=0.001, momentum=0.01, affine=True, track_running_stats=True)\n",
              "          (2): Hardswish()\n",
              "        )\n",
              "        (1): ConvBNActivation(\n",
              "          (0): Conv2d(576, 576, kernel_size=(5, 5), stride=(1, 1), padding=(2, 2), groups=576, bias=False)\n",
              "          (1): BatchNorm2d(576, eps=0.001, momentum=0.01, affine=True, track_running_stats=True)\n",
              "          (2): Hardswish()\n",
              "        )\n",
              "        (2): SqueezeExcitation(\n",
              "          (fc1): Conv2d(576, 144, kernel_size=(1, 1), stride=(1, 1))\n",
              "          (relu): ReLU(inplace=True)\n",
              "          (fc2): Conv2d(144, 576, kernel_size=(1, 1), stride=(1, 1))\n",
              "        )\n",
              "        (3): ConvBNActivation(\n",
              "          (0): Conv2d(576, 96, kernel_size=(1, 1), stride=(1, 1), bias=False)\n",
              "          (1): BatchNorm2d(96, eps=0.001, momentum=0.01, affine=True, track_running_stats=True)\n",
              "          (2): Identity()\n",
              "        )\n",
              "      )\n",
              "    )\n",
              "    (12): ConvBNActivation(\n",
              "      (0): Conv2d(96, 576, kernel_size=(1, 1), stride=(1, 1), bias=False)\n",
              "      (1): BatchNorm2d(576, eps=0.001, momentum=0.01, affine=True, track_running_stats=True)\n",
              "      (2): Hardswish()\n",
              "    )\n",
              "  )\n",
              "  (avgpool): AdaptiveAvgPool2d(output_size=1)\n",
              "  (classifier): Sequential(\n",
              "    (0): Linear(in_features=576, out_features=1024, bias=True)\n",
              "    (1): Hardswish()\n",
              "    (2): Dropout(p=0.2, inplace=True)\n",
              "    (3): Linear(in_features=1024, out_features=29, bias=True)\n",
              "  )\n",
              ")"
            ]
          },
          "metadata": {
            "tags": []
          },
          "execution_count": 26
        }
      ]
    },
    {
      "cell_type": "code",
      "metadata": {
        "colab": {
          "base_uri": "https://localhost:8080/"
        },
        "id": "5JUjxs8jzUyh",
        "outputId": "9b460c99-3d8d-4564-c3a3-9596299ae364"
      },
      "source": [
        "correct = 0\n",
        "total = 0\n",
        "with torch.no_grad():\n",
        "    for data in dataloaders['val']:\n",
        "        images, labels = data[0].to(device), data[1].to(device)\n",
        "        outputs = model(images)\n",
        "        _, predicted = torch.max(outputs.data, 1)\n",
        "        total += labels.size(0)\n",
        "        correct += (predicted == labels).sum().item()\n",
        "\n",
        "print('Accuracy of the network on the 10000 test images: %d %%' % (100 * correct / total))"
      ],
      "execution_count": null,
      "outputs": [
        {
          "output_type": "stream",
          "text": [
            "Accuracy of the network on the 10000 test images: 98 %\n"
          ],
          "name": "stdout"
        }
      ]
    },
    {
      "cell_type": "code",
      "metadata": {
        "colab": {
          "base_uri": "https://localhost:8080/"
        },
        "id": "hRx644zzzc1i",
        "outputId": "c432415d-1b62-4633-928e-1ddce869e7c5"
      },
      "source": [
        "class_correct = list(0. for i in range(len(classes)))\n",
        "class_total = list(0. for i in range(len(classes)))\n",
        "\n",
        "with torch.no_grad():\n",
        "    for data in dataloaders['val']:\n",
        "        images, labels = data[0].to(device), data[1].to(device)\n",
        "        outputs = model(images)\n",
        "        _, predicted = torch.max(outputs, 1)\n",
        "        #c = (predicted == labels).squeeze() \n",
        "        c = (predicted == labels)\n",
        "        for i in range(batch):\n",
        "            label = labels[i].item()\n",
        "            class_correct[label] += c[i].item()\n",
        "            class_total[label] += 1\n",
        "\n",
        "for i in range(len(classes)):\n",
        "    print('Accuracy of %5s : %2d %%' % (\n",
        "        classes[i], 100 * class_correct[i] / class_total[i]))"
      ],
      "execution_count": null,
      "outputs": [
        {
          "output_type": "stream",
          "text": [
            "Accuracy of     A : 99 %\n",
            "Accuracy of     B : 99 %\n",
            "Accuracy of     C : 99 %\n",
            "Accuracy of     D : 98 %\n",
            "Accuracy of     E : 99 %\n",
            "Accuracy of     F : 99 %\n",
            "Accuracy of     G : 98 %\n",
            "Accuracy of     H : 99 %\n",
            "Accuracy of     I : 96 %\n",
            "Accuracy of     J : 99 %\n",
            "Accuracy of     K : 99 %\n",
            "Accuracy of     L : 99 %\n",
            "Accuracy of     M : 99 %\n",
            "Accuracy of     N : 97 %\n",
            "Accuracy of     O : 99 %\n",
            "Accuracy of     P : 99 %\n",
            "Accuracy of     Q : 99 %\n",
            "Accuracy of     R : 98 %\n",
            "Accuracy of     S : 99 %\n",
            "Accuracy of     T : 99 %\n",
            "Accuracy of     U : 99 %\n",
            "Accuracy of     V : 98 %\n",
            "Accuracy of     W : 99 %\n",
            "Accuracy of     X : 97 %\n",
            "Accuracy of     Y : 99 %\n",
            "Accuracy of     Z : 98 %\n",
            "Accuracy of   del : 99 %\n",
            "Accuracy of nothing : 99 %\n",
            "Accuracy of space : 99 %\n"
          ],
          "name": "stdout"
        }
      ]
    },
    {
      "cell_type": "code",
      "metadata": {
        "id": "CqdHmCoVPhQX"
      },
      "source": [
        ""
      ],
      "execution_count": null,
      "outputs": []
    }
  ]
}